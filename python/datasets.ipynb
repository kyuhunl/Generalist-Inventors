{
 "metadata": {
  "language_info": {
   "codemirror_mode": {
    "name": "ipython",
    "version": 3
   },
   "file_extension": ".py",
   "mimetype": "text/x-python",
   "name": "python",
   "nbconvert_exporter": "python",
   "pygments_lexer": "ipython3",
   "version": "3.9.6"
  },
  "orig_nbformat": 4,
  "kernelspec": {
   "name": "python3",
   "display_name": "Python 3.9.6 64-bit"
  },
  "interpreter": {
   "hash": "7046b8b1f466121cb44e16fe98458575713584676e3ab8d45b37476c433fdaf1"
  }
 },
 "nbformat": 4,
 "nbformat_minor": 2,
 "cells": [
  {
   "cell_type": "code",
   "execution_count": 7,
   "metadata": {},
   "outputs": [],
   "source": [
    "import os\n",
    "import zipfile as zip\n",
    "import pandas as pd\n",
    "import csv\n",
    "import numpy as np\n",
    "import matplotlib.pyplot as plt\n",
    "from scipy import stats\n",
    "from fuzzywuzzy import fuzz\n",
    "import ast\n",
    "import datetime\n",
    "import dateparser as dp\n",
    "from sklearn.metrics.pairwise import cosine_similarity\n",
    "from concentrationMetrics import Index"
   ]
  },
  {
   "cell_type": "code",
   "execution_count": 8,
   "metadata": {},
   "outputs": [],
   "source": [
    "os.chdir(\"E:\\data\")"
   ]
  },
  {
   "cell_type": "code",
   "execution_count": 27,
   "metadata": {},
   "outputs": [
    {
     "output_type": "execute_result",
     "data": {
      "text/plain": [
       "     nr_pt   gvkey                     conml  \\\n",
       "0  9642295  202332                 Fuji Corp   \n",
       "1  9642291  213207             Inventec Corp   \n",
       "2  9642289  132740  Infineon Technologies AG   \n",
       "\n",
       "                          assg_name date_issue date_filing  \n",
       "0       Fuji Machine Mfg. Co., Ltd.  02may2017   11nov2013  \n",
       "1              Inventec Corporation  02may2017   17may2016  \n",
       "2  Infineon Technologies Austria Ag  02may2017   19sep2013  "
      ],
      "text/html": "<div>\n<style scoped>\n    .dataframe tbody tr th:only-of-type {\n        vertical-align: middle;\n    }\n\n    .dataframe tbody tr th {\n        vertical-align: top;\n    }\n\n    .dataframe thead th {\n        text-align: right;\n    }\n</style>\n<table border=\"1\" class=\"dataframe\">\n  <thead>\n    <tr style=\"text-align: right;\">\n      <th></th>\n      <th>nr_pt</th>\n      <th>gvkey</th>\n      <th>conml</th>\n      <th>assg_name</th>\n      <th>date_issue</th>\n      <th>date_filing</th>\n    </tr>\n  </thead>\n  <tbody>\n    <tr>\n      <th>0</th>\n      <td>9642295</td>\n      <td>202332</td>\n      <td>Fuji Corp</td>\n      <td>Fuji Machine Mfg. Co., Ltd.</td>\n      <td>02may2017</td>\n      <td>11nov2013</td>\n    </tr>\n    <tr>\n      <th>1</th>\n      <td>9642291</td>\n      <td>213207</td>\n      <td>Inventec Corp</td>\n      <td>Inventec Corporation</td>\n      <td>02may2017</td>\n      <td>17may2016</td>\n    </tr>\n    <tr>\n      <th>2</th>\n      <td>9642289</td>\n      <td>132740</td>\n      <td>Infineon Technologies AG</td>\n      <td>Infineon Technologies Austria Ag</td>\n      <td>02may2017</td>\n      <td>19sep2013</td>\n    </tr>\n  </tbody>\n</table>\n</div>"
     },
     "metadata": {},
     "execution_count": 27
    }
   ],
   "source": [
    "pd.read_csv(\"GCPD_granular_data.txt\", nrows=3)"
   ]
  },
  {
   "cell_type": "code",
   "execution_count": 28,
   "metadata": {},
   "outputs": [
    {
     "output_type": "execute_result",
     "data": {
      "text/plain": [
       "   Unnamed: 0    nr_pt   gvkey              conml  \\\n",
       "0         312  9641815    6266  Johnson & Johnson   \n",
       "1        1502  9639917  101310        Novartis AG   \n",
       "2        2180  9638936    6266  Johnson & Johnson   \n",
       "\n",
       "                             assg_name  date_issue date_filing  \n",
       "0         DePuy Synthes Products, Inc.  2017-05-02  2014-03-14  \n",
       "1                          Novartis Ag  2017-05-02  2015-10-07  \n",
       "2  Johnson & Johnson Vision Care, Inc.  2017-05-02  2014-08-20  "
      ],
      "text/html": "<div>\n<style scoped>\n    .dataframe tbody tr th:only-of-type {\n        vertical-align: middle;\n    }\n\n    .dataframe tbody tr th {\n        vertical-align: top;\n    }\n\n    .dataframe thead th {\n        text-align: right;\n    }\n</style>\n<table border=\"1\" class=\"dataframe\">\n  <thead>\n    <tr style=\"text-align: right;\">\n      <th></th>\n      <th>Unnamed: 0</th>\n      <th>nr_pt</th>\n      <th>gvkey</th>\n      <th>conml</th>\n      <th>assg_name</th>\n      <th>date_issue</th>\n      <th>date_filing</th>\n    </tr>\n  </thead>\n  <tbody>\n    <tr>\n      <th>0</th>\n      <td>312</td>\n      <td>9641815</td>\n      <td>6266</td>\n      <td>Johnson &amp; Johnson</td>\n      <td>DePuy Synthes Products, Inc.</td>\n      <td>2017-05-02</td>\n      <td>2014-03-14</td>\n    </tr>\n    <tr>\n      <th>1</th>\n      <td>1502</td>\n      <td>9639917</td>\n      <td>101310</td>\n      <td>Novartis AG</td>\n      <td>Novartis Ag</td>\n      <td>2017-05-02</td>\n      <td>2015-10-07</td>\n    </tr>\n    <tr>\n      <th>2</th>\n      <td>2180</td>\n      <td>9638936</td>\n      <td>6266</td>\n      <td>Johnson &amp; Johnson</td>\n      <td>Johnson &amp; Johnson Vision Care, Inc.</td>\n      <td>2017-05-02</td>\n      <td>2014-08-20</td>\n    </tr>\n  </tbody>\n</table>\n</div>"
     },
     "metadata": {},
     "execution_count": 28
    }
   ],
   "source": [
    "pd.read_csv('top10pat.csv', nrows=3)"
   ]
  },
  {
   "cell_type": "code",
   "execution_count": 33,
   "metadata": {},
   "outputs": [
    {
     "output_type": "execute_result",
     "data": {
      "text/plain": [
       "   patent_id inventor_id  location_id\n",
       "0    6584128   6584128-1          NaN\n",
       "1    4789863   4789863-1          NaN\n",
       "2    6795487   6795487-2          NaN"
      ],
      "text/html": "<div>\n<style scoped>\n    .dataframe tbody tr th:only-of-type {\n        vertical-align: middle;\n    }\n\n    .dataframe tbody tr th {\n        vertical-align: top;\n    }\n\n    .dataframe thead th {\n        text-align: right;\n    }\n</style>\n<table border=\"1\" class=\"dataframe\">\n  <thead>\n    <tr style=\"text-align: right;\">\n      <th></th>\n      <th>patent_id</th>\n      <th>inventor_id</th>\n      <th>location_id</th>\n    </tr>\n  </thead>\n  <tbody>\n    <tr>\n      <th>0</th>\n      <td>6584128</td>\n      <td>6584128-1</td>\n      <td>NaN</td>\n    </tr>\n    <tr>\n      <th>1</th>\n      <td>4789863</td>\n      <td>4789863-1</td>\n      <td>NaN</td>\n    </tr>\n    <tr>\n      <th>2</th>\n      <td>6795487</td>\n      <td>6795487-2</td>\n      <td>NaN</td>\n    </tr>\n  </tbody>\n</table>\n</div>"
     },
     "metadata": {},
     "execution_count": 33
    }
   ],
   "source": [
    "pd.read_csv('patent_inventor.tsv', delimiter='\\t', nrows=3)"
   ]
  },
  {
   "cell_type": "code",
   "execution_count": 34,
   "metadata": {},
   "outputs": [
    {
     "output_type": "execute_result",
     "data": {
      "text/plain": [
       "   Unnamed: 0  patent_id  gvkey              conml  \\\n",
       "0           0    9225375   6266  Johnson & Johnson   \n",
       "1           1    9225375   6266  Johnson & Johnson   \n",
       "2           2    9225375   6266  Johnson & Johnson   \n",
       "\n",
       "                             assg_name  date_issue date_filing inventor_id  \\\n",
       "0  Johnson & Johnson Vision Care, Inc.  2015-12-29  2013-09-23   8526113-6   \n",
       "1  Johnson & Johnson Vision Care, Inc.  2015-12-29  2013-09-23   9014639-2   \n",
       "2  Johnson & Johnson Vision Care, Inc.  2015-12-29  2013-09-23   7931832-1   \n",
       "\n",
       "                            location_id  \n",
       "0  bb1b1d58-4255-4421-92a9-4a781a2982b2  \n",
       "1  46b9b0dc-b7bd-4a34-98d3-66f4a6730ba4  \n",
       "2  28eb0edc-c70b-4111-9571-0a7ea7bd8f03  "
      ],
      "text/html": "<div>\n<style scoped>\n    .dataframe tbody tr th:only-of-type {\n        vertical-align: middle;\n    }\n\n    .dataframe tbody tr th {\n        vertical-align: top;\n    }\n\n    .dataframe thead th {\n        text-align: right;\n    }\n</style>\n<table border=\"1\" class=\"dataframe\">\n  <thead>\n    <tr style=\"text-align: right;\">\n      <th></th>\n      <th>Unnamed: 0</th>\n      <th>patent_id</th>\n      <th>gvkey</th>\n      <th>conml</th>\n      <th>assg_name</th>\n      <th>date_issue</th>\n      <th>date_filing</th>\n      <th>inventor_id</th>\n      <th>location_id</th>\n    </tr>\n  </thead>\n  <tbody>\n    <tr>\n      <th>0</th>\n      <td>0</td>\n      <td>9225375</td>\n      <td>6266</td>\n      <td>Johnson &amp; Johnson</td>\n      <td>Johnson &amp; Johnson Vision Care, Inc.</td>\n      <td>2015-12-29</td>\n      <td>2013-09-23</td>\n      <td>8526113-6</td>\n      <td>bb1b1d58-4255-4421-92a9-4a781a2982b2</td>\n    </tr>\n    <tr>\n      <th>1</th>\n      <td>1</td>\n      <td>9225375</td>\n      <td>6266</td>\n      <td>Johnson &amp; Johnson</td>\n      <td>Johnson &amp; Johnson Vision Care, Inc.</td>\n      <td>2015-12-29</td>\n      <td>2013-09-23</td>\n      <td>9014639-2</td>\n      <td>46b9b0dc-b7bd-4a34-98d3-66f4a6730ba4</td>\n    </tr>\n    <tr>\n      <th>2</th>\n      <td>2</td>\n      <td>9225375</td>\n      <td>6266</td>\n      <td>Johnson &amp; Johnson</td>\n      <td>Johnson &amp; Johnson Vision Care, Inc.</td>\n      <td>2015-12-29</td>\n      <td>2013-09-23</td>\n      <td>7931832-1</td>\n      <td>28eb0edc-c70b-4111-9571-0a7ea7bd8f03</td>\n    </tr>\n  </tbody>\n</table>\n</div>"
     },
     "metadata": {},
     "execution_count": 34
    }
   ],
   "source": [
    "pd.read_csv('sampleframe.csv', nrows=3)"
   ]
  },
  {
   "cell_type": "code",
   "execution_count": 35,
   "metadata": {},
   "outputs": [
    {
     "output_type": "execute_result",
     "data": {
      "text/plain": [
       "   Unnamed: 0 inventor_id  patent_id class\n",
       "0           0   8526113-6    9244203  G02B\n",
       "1           1   8526113-6    9244203  G02C\n",
       "2           7   8526113-6    9225375  A61B"
      ],
      "text/html": "<div>\n<style scoped>\n    .dataframe tbody tr th:only-of-type {\n        vertical-align: middle;\n    }\n\n    .dataframe tbody tr th {\n        vertical-align: top;\n    }\n\n    .dataframe thead th {\n        text-align: right;\n    }\n</style>\n<table border=\"1\" class=\"dataframe\">\n  <thead>\n    <tr style=\"text-align: right;\">\n      <th></th>\n      <th>Unnamed: 0</th>\n      <th>inventor_id</th>\n      <th>patent_id</th>\n      <th>class</th>\n    </tr>\n  </thead>\n  <tbody>\n    <tr>\n      <th>0</th>\n      <td>0</td>\n      <td>8526113-6</td>\n      <td>9244203</td>\n      <td>G02B</td>\n    </tr>\n    <tr>\n      <th>1</th>\n      <td>1</td>\n      <td>8526113-6</td>\n      <td>9244203</td>\n      <td>G02C</td>\n    </tr>\n    <tr>\n      <th>2</th>\n      <td>7</td>\n      <td>8526113-6</td>\n      <td>9225375</td>\n      <td>A61B</td>\n    </tr>\n  </tbody>\n</table>\n</div>"
     },
     "metadata": {},
     "execution_count": 35
    }
   ],
   "source": [
    "pd.read_csv('top10inventors.csv', nrows=3)"
   ]
  },
  {
   "cell_type": "code",
   "execution_count": 37,
   "metadata": {},
   "outputs": [
    {
     "output_type": "execute_result",
     "data": {
      "text/plain": [
       "   Unnamed: 0  patent_id class     group                       uuid  \\\n",
       "0           0    6864832  G01S    013/42  00005z3qh82fwpo5r1oupwpr3   \n",
       "1           1    9954111  H01L  027/1156  0000662nssr53hdo3lp92sz26   \n",
       "2           2   10048897  G06F   012/891  00008u9j3g8oivqtuc1dqayb1   \n",
       "\n",
       "   main_group  subgroup           cms       cm  \n",
       "0          13        42    G01S+13+42  G01S+13  \n",
       "1          27      1156  H01L+27+1156  H01L+27  \n",
       "2          12       891   G06F+12+891  G06F+12  "
      ],
      "text/html": "<div>\n<style scoped>\n    .dataframe tbody tr th:only-of-type {\n        vertical-align: middle;\n    }\n\n    .dataframe tbody tr th {\n        vertical-align: top;\n    }\n\n    .dataframe thead th {\n        text-align: right;\n    }\n</style>\n<table border=\"1\" class=\"dataframe\">\n  <thead>\n    <tr style=\"text-align: right;\">\n      <th></th>\n      <th>Unnamed: 0</th>\n      <th>patent_id</th>\n      <th>class</th>\n      <th>group</th>\n      <th>uuid</th>\n      <th>main_group</th>\n      <th>subgroup</th>\n      <th>cms</th>\n      <th>cm</th>\n    </tr>\n  </thead>\n  <tbody>\n    <tr>\n      <th>0</th>\n      <td>0</td>\n      <td>6864832</td>\n      <td>G01S</td>\n      <td>013/42</td>\n      <td>00005z3qh82fwpo5r1oupwpr3</td>\n      <td>13</td>\n      <td>42</td>\n      <td>G01S+13+42</td>\n      <td>G01S+13</td>\n    </tr>\n    <tr>\n      <th>1</th>\n      <td>1</td>\n      <td>9954111</td>\n      <td>H01L</td>\n      <td>027/1156</td>\n      <td>0000662nssr53hdo3lp92sz26</td>\n      <td>27</td>\n      <td>1156</td>\n      <td>H01L+27+1156</td>\n      <td>H01L+27</td>\n    </tr>\n    <tr>\n      <th>2</th>\n      <td>2</td>\n      <td>10048897</td>\n      <td>G06F</td>\n      <td>012/891</td>\n      <td>00008u9j3g8oivqtuc1dqayb1</td>\n      <td>12</td>\n      <td>891</td>\n      <td>G06F+12+891</td>\n      <td>G06F+12</td>\n    </tr>\n  </tbody>\n</table>\n</div>"
     },
     "metadata": {},
     "execution_count": 37
    }
   ],
   "source": [
    "pd.read_csv('ipc3.csv', nrows=3)"
   ]
  },
  {
   "cell_type": "code",
   "execution_count": 38,
   "metadata": {},
   "outputs": [
    {
     "output_type": "execute_result",
     "data": {
      "text/plain": [
       "   Unnamed: 0 inventor_id  patent_id class_x  A00N  A01B  A01C  A01D  A01F  \\\n",
       "0           0   8526113-6    9244203    G02B     0     0     0     0     0   \n",
       "1           1   8526113-6    9244203    G02C     0     0     0     0     0   \n",
       "2           2   8526113-6    9225375    A61B     0     0     0     0     0   \n",
       "\n",
       "   A01G  ...  H06F  H07M  H09B  H11L  H22K  H61B  H61F  H61K  H61M  class_y  \n",
       "0     0  ...     0     0     0     0     0     0     0     0     0        2  \n",
       "1     0  ...     0     0     0     0     0     0     0     0     0        2  \n",
       "2     0  ...     0     0     0     0     0     0     0     0     0        4  \n",
       "\n",
       "[3 rows x 763 columns]"
      ],
      "text/html": "<div>\n<style scoped>\n    .dataframe tbody tr th:only-of-type {\n        vertical-align: middle;\n    }\n\n    .dataframe tbody tr th {\n        vertical-align: top;\n    }\n\n    .dataframe thead th {\n        text-align: right;\n    }\n</style>\n<table border=\"1\" class=\"dataframe\">\n  <thead>\n    <tr style=\"text-align: right;\">\n      <th></th>\n      <th>Unnamed: 0</th>\n      <th>inventor_id</th>\n      <th>patent_id</th>\n      <th>class_x</th>\n      <th>A00N</th>\n      <th>A01B</th>\n      <th>A01C</th>\n      <th>A01D</th>\n      <th>A01F</th>\n      <th>A01G</th>\n      <th>...</th>\n      <th>H06F</th>\n      <th>H07M</th>\n      <th>H09B</th>\n      <th>H11L</th>\n      <th>H22K</th>\n      <th>H61B</th>\n      <th>H61F</th>\n      <th>H61K</th>\n      <th>H61M</th>\n      <th>class_y</th>\n    </tr>\n  </thead>\n  <tbody>\n    <tr>\n      <th>0</th>\n      <td>0</td>\n      <td>8526113-6</td>\n      <td>9244203</td>\n      <td>G02B</td>\n      <td>0</td>\n      <td>0</td>\n      <td>0</td>\n      <td>0</td>\n      <td>0</td>\n      <td>0</td>\n      <td>...</td>\n      <td>0</td>\n      <td>0</td>\n      <td>0</td>\n      <td>0</td>\n      <td>0</td>\n      <td>0</td>\n      <td>0</td>\n      <td>0</td>\n      <td>0</td>\n      <td>2</td>\n    </tr>\n    <tr>\n      <th>1</th>\n      <td>1</td>\n      <td>8526113-6</td>\n      <td>9244203</td>\n      <td>G02C</td>\n      <td>0</td>\n      <td>0</td>\n      <td>0</td>\n      <td>0</td>\n      <td>0</td>\n      <td>0</td>\n      <td>...</td>\n      <td>0</td>\n      <td>0</td>\n      <td>0</td>\n      <td>0</td>\n      <td>0</td>\n      <td>0</td>\n      <td>0</td>\n      <td>0</td>\n      <td>0</td>\n      <td>2</td>\n    </tr>\n    <tr>\n      <th>2</th>\n      <td>2</td>\n      <td>8526113-6</td>\n      <td>9225375</td>\n      <td>A61B</td>\n      <td>0</td>\n      <td>0</td>\n      <td>0</td>\n      <td>0</td>\n      <td>0</td>\n      <td>0</td>\n      <td>...</td>\n      <td>0</td>\n      <td>0</td>\n      <td>0</td>\n      <td>0</td>\n      <td>0</td>\n      <td>0</td>\n      <td>0</td>\n      <td>0</td>\n      <td>0</td>\n      <td>4</td>\n    </tr>\n  </tbody>\n</table>\n<p>3 rows × 763 columns</p>\n</div>"
     },
     "metadata": {},
     "execution_count": 38
    }
   ],
   "source": [
    "pd.read_csv('uniqueinventors.csv', nrows=3)"
   ]
  },
  {
   "cell_type": "code",
   "execution_count": 39,
   "metadata": {},
   "outputs": [
    {
     "output_type": "execute_result",
     "data": {
      "text/plain": [
       "   Unnamed: 0  patent_id  gvkey              conml  \\\n",
       "0           0    9225375   6266  Johnson & Johnson   \n",
       "1           1    9225375   6266  Johnson & Johnson   \n",
       "2           2    9225375   6266  Johnson & Johnson   \n",
       "\n",
       "                             assg_name  date_issue date_filing inventor_id  \\\n",
       "0  Johnson & Johnson Vision Care, Inc.  2015-12-29  2013-09-23   8526113-6   \n",
       "1  Johnson & Johnson Vision Care, Inc.  2015-12-29  2013-09-23   9014639-2   \n",
       "2  Johnson & Johnson Vision Care, Inc.  2015-12-29  2013-09-23   7931832-1   \n",
       "\n",
       "                            location_id  A00N  ...  H05K  H06F  H07M  H09B  \\\n",
       "0  bb1b1d58-4255-4421-92a9-4a781a2982b2   0.0  ...   1.0   0.0   0.0   0.0   \n",
       "1  46b9b0dc-b7bd-4a34-98d3-66f4a6730ba4   0.0  ...   0.0   0.0   0.0   0.0   \n",
       "2  28eb0edc-c70b-4111-9571-0a7ea7bd8f03   0.0  ...   3.0   0.0   0.0   0.0   \n",
       "\n",
       "   H11L  H22K  H61B  H61F  H61K  H61M  \n",
       "0   0.0   0.0   0.0   0.0   0.0   0.0  \n",
       "1   0.0   0.0   0.0   0.0   0.0   0.0  \n",
       "2   0.0   0.0   0.0   0.0   0.0   0.0  \n",
       "\n",
       "[3 rows x 767 columns]"
      ],
      "text/html": "<div>\n<style scoped>\n    .dataframe tbody tr th:only-of-type {\n        vertical-align: middle;\n    }\n\n    .dataframe tbody tr th {\n        vertical-align: top;\n    }\n\n    .dataframe thead th {\n        text-align: right;\n    }\n</style>\n<table border=\"1\" class=\"dataframe\">\n  <thead>\n    <tr style=\"text-align: right;\">\n      <th></th>\n      <th>Unnamed: 0</th>\n      <th>patent_id</th>\n      <th>gvkey</th>\n      <th>conml</th>\n      <th>assg_name</th>\n      <th>date_issue</th>\n      <th>date_filing</th>\n      <th>inventor_id</th>\n      <th>location_id</th>\n      <th>A00N</th>\n      <th>...</th>\n      <th>H05K</th>\n      <th>H06F</th>\n      <th>H07M</th>\n      <th>H09B</th>\n      <th>H11L</th>\n      <th>H22K</th>\n      <th>H61B</th>\n      <th>H61F</th>\n      <th>H61K</th>\n      <th>H61M</th>\n    </tr>\n  </thead>\n  <tbody>\n    <tr>\n      <th>0</th>\n      <td>0</td>\n      <td>9225375</td>\n      <td>6266</td>\n      <td>Johnson &amp; Johnson</td>\n      <td>Johnson &amp; Johnson Vision Care, Inc.</td>\n      <td>2015-12-29</td>\n      <td>2013-09-23</td>\n      <td>8526113-6</td>\n      <td>bb1b1d58-4255-4421-92a9-4a781a2982b2</td>\n      <td>0.0</td>\n      <td>...</td>\n      <td>1.0</td>\n      <td>0.0</td>\n      <td>0.0</td>\n      <td>0.0</td>\n      <td>0.0</td>\n      <td>0.0</td>\n      <td>0.0</td>\n      <td>0.0</td>\n      <td>0.0</td>\n      <td>0.0</td>\n    </tr>\n    <tr>\n      <th>1</th>\n      <td>1</td>\n      <td>9225375</td>\n      <td>6266</td>\n      <td>Johnson &amp; Johnson</td>\n      <td>Johnson &amp; Johnson Vision Care, Inc.</td>\n      <td>2015-12-29</td>\n      <td>2013-09-23</td>\n      <td>9014639-2</td>\n      <td>46b9b0dc-b7bd-4a34-98d3-66f4a6730ba4</td>\n      <td>0.0</td>\n      <td>...</td>\n      <td>0.0</td>\n      <td>0.0</td>\n      <td>0.0</td>\n      <td>0.0</td>\n      <td>0.0</td>\n      <td>0.0</td>\n      <td>0.0</td>\n      <td>0.0</td>\n      <td>0.0</td>\n      <td>0.0</td>\n    </tr>\n    <tr>\n      <th>2</th>\n      <td>2</td>\n      <td>9225375</td>\n      <td>6266</td>\n      <td>Johnson &amp; Johnson</td>\n      <td>Johnson &amp; Johnson Vision Care, Inc.</td>\n      <td>2015-12-29</td>\n      <td>2013-09-23</td>\n      <td>7931832-1</td>\n      <td>28eb0edc-c70b-4111-9571-0a7ea7bd8f03</td>\n      <td>0.0</td>\n      <td>...</td>\n      <td>3.0</td>\n      <td>0.0</td>\n      <td>0.0</td>\n      <td>0.0</td>\n      <td>0.0</td>\n      <td>0.0</td>\n      <td>0.0</td>\n      <td>0.0</td>\n      <td>0.0</td>\n      <td>0.0</td>\n    </tr>\n  </tbody>\n</table>\n<p>3 rows × 767 columns</p>\n</div>"
     },
     "metadata": {},
     "execution_count": 39
    }
   ],
   "source": [
    "pd.read_csv('sampleframe2.csv', nrows=3)"
   ]
  },
  {
   "cell_type": "code",
   "execution_count": 40,
   "metadata": {},
   "outputs": [
    {
     "output_type": "execute_result",
     "data": {
      "text/plain": [
       "  inventor_id  A00N  A01B  A01C  A01D  A01F  A01G  A01H  A01J  A01K  ...  \\\n",
       "0   3931106-1   0.0   0.0   0.0   0.0   0.0   0.0   0.0   0.0   0.0  ...   \n",
       "1   3931229-2   0.0   0.0   0.0   0.0   0.0   0.0   0.0   0.0   0.0  ...   \n",
       "2   3931268-1   0.0   0.0   0.0   0.0   0.0   0.0   0.0   0.0   0.0  ...   \n",
       "\n",
       "   H05K  H06F  H07M  H09B  H11L  H22K  H61B  H61F  H61K  H61M  \n",
       "0   0.0   0.0   0.0   0.0   0.0   0.0   0.0   0.0   0.0   0.0  \n",
       "1   0.0   0.0   0.0   0.0   0.0   0.0   0.0   0.0   0.0   0.0  \n",
       "2   0.0   0.0   0.0   0.0   0.0   0.0   0.0   0.0   0.0   0.0  \n",
       "\n",
       "[3 rows x 759 columns]"
      ],
      "text/html": "<div>\n<style scoped>\n    .dataframe tbody tr th:only-of-type {\n        vertical-align: middle;\n    }\n\n    .dataframe tbody tr th {\n        vertical-align: top;\n    }\n\n    .dataframe thead th {\n        text-align: right;\n    }\n</style>\n<table border=\"1\" class=\"dataframe\">\n  <thead>\n    <tr style=\"text-align: right;\">\n      <th></th>\n      <th>inventor_id</th>\n      <th>A00N</th>\n      <th>A01B</th>\n      <th>A01C</th>\n      <th>A01D</th>\n      <th>A01F</th>\n      <th>A01G</th>\n      <th>A01H</th>\n      <th>A01J</th>\n      <th>A01K</th>\n      <th>...</th>\n      <th>H05K</th>\n      <th>H06F</th>\n      <th>H07M</th>\n      <th>H09B</th>\n      <th>H11L</th>\n      <th>H22K</th>\n      <th>H61B</th>\n      <th>H61F</th>\n      <th>H61K</th>\n      <th>H61M</th>\n    </tr>\n  </thead>\n  <tbody>\n    <tr>\n      <th>0</th>\n      <td>3931106-1</td>\n      <td>0.0</td>\n      <td>0.0</td>\n      <td>0.0</td>\n      <td>0.0</td>\n      <td>0.0</td>\n      <td>0.0</td>\n      <td>0.0</td>\n      <td>0.0</td>\n      <td>0.0</td>\n      <td>...</td>\n      <td>0.0</td>\n      <td>0.0</td>\n      <td>0.0</td>\n      <td>0.0</td>\n      <td>0.0</td>\n      <td>0.0</td>\n      <td>0.0</td>\n      <td>0.0</td>\n      <td>0.0</td>\n      <td>0.0</td>\n    </tr>\n    <tr>\n      <th>1</th>\n      <td>3931229-2</td>\n      <td>0.0</td>\n      <td>0.0</td>\n      <td>0.0</td>\n      <td>0.0</td>\n      <td>0.0</td>\n      <td>0.0</td>\n      <td>0.0</td>\n      <td>0.0</td>\n      <td>0.0</td>\n      <td>...</td>\n      <td>0.0</td>\n      <td>0.0</td>\n      <td>0.0</td>\n      <td>0.0</td>\n      <td>0.0</td>\n      <td>0.0</td>\n      <td>0.0</td>\n      <td>0.0</td>\n      <td>0.0</td>\n      <td>0.0</td>\n    </tr>\n    <tr>\n      <th>2</th>\n      <td>3931268-1</td>\n      <td>0.0</td>\n      <td>0.0</td>\n      <td>0.0</td>\n      <td>0.0</td>\n      <td>0.0</td>\n      <td>0.0</td>\n      <td>0.0</td>\n      <td>0.0</td>\n      <td>0.0</td>\n      <td>...</td>\n      <td>0.0</td>\n      <td>0.0</td>\n      <td>0.0</td>\n      <td>0.0</td>\n      <td>0.0</td>\n      <td>0.0</td>\n      <td>0.0</td>\n      <td>0.0</td>\n      <td>0.0</td>\n      <td>0.0</td>\n    </tr>\n  </tbody>\n</table>\n<p>3 rows × 759 columns</p>\n</div>"
     },
     "metadata": {},
     "execution_count": 40
    }
   ],
   "source": [
    "pd.read_csv('vectors.csv', nrows=3)"
   ]
  },
  {
   "cell_type": "code",
   "execution_count": 41,
   "metadata": {},
   "outputs": [
    {
     "output_type": "execute_result",
     "data": {
      "text/plain": [
       "  inventor_id  patent_id  class\n",
       "0   3931106-1         28      9\n",
       "1   3931229-2         10      2\n",
       "2   3931268-1         29      8"
      ],
      "text/html": "<div>\n<style scoped>\n    .dataframe tbody tr th:only-of-type {\n        vertical-align: middle;\n    }\n\n    .dataframe tbody tr th {\n        vertical-align: top;\n    }\n\n    .dataframe thead th {\n        text-align: right;\n    }\n</style>\n<table border=\"1\" class=\"dataframe\">\n  <thead>\n    <tr style=\"text-align: right;\">\n      <th></th>\n      <th>inventor_id</th>\n      <th>patent_id</th>\n      <th>class</th>\n    </tr>\n  </thead>\n  <tbody>\n    <tr>\n      <th>0</th>\n      <td>3931106-1</td>\n      <td>28</td>\n      <td>9</td>\n    </tr>\n    <tr>\n      <th>1</th>\n      <td>3931229-2</td>\n      <td>10</td>\n      <td>2</td>\n    </tr>\n    <tr>\n      <th>2</th>\n      <td>3931268-1</td>\n      <td>29</td>\n      <td>8</td>\n    </tr>\n  </tbody>\n</table>\n</div>"
     },
     "metadata": {},
     "execution_count": 41
    }
   ],
   "source": [
    "pd.read_csv('top10portfolios.csv', nrows=3)"
   ]
  },
  {
   "cell_type": "code",
   "execution_count": null,
   "metadata": {},
   "outputs": [],
   "source": []
  }
 ]
}